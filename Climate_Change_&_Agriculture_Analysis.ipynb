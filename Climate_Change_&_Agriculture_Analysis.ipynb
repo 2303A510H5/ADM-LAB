{
  "metadata": {
    "kernelspec": {
      "language": "python",
      "display_name": "Python 3",
      "name": "python3"
    },
    "language_info": {
      "name": "python",
      "version": "3.10.14",
      "mimetype": "text/x-python",
      "codemirror_mode": {
        "name": "ipython",
        "version": 3
      },
      "pygments_lexer": "ipython3",
      "nbconvert_exporter": "python",
      "file_extension": ".py"
    },
    "kaggle": {
      "accelerator": "none",
      "dataSources": [
        {
          "sourceId": 9333642,
          "sourceType": "datasetVersion",
          "datasetId": 5655659
        }
      ],
      "dockerImageVersionId": 30761,
      "isInternetEnabled": true,
      "language": "python",
      "sourceType": "notebook",
      "isGpuEnabled": false
    },
    "colab": {
      "name": "Climate Change & Agriculture Analysis",
      "provenance": [],
      "include_colab_link": true
    }
  },
  "nbformat_minor": 0,
  "nbformat": 4,
  "cells": [
    {
      "cell_type": "markdown",
      "metadata": {
        "id": "view-in-github",
        "colab_type": "text"
      },
      "source": [
        "<a href=\"https://colab.research.google.com/github/2303A510H5/ADM-LAB/blob/main/Climate_Change_%26_Agriculture_Analysis.ipynb\" target=\"_parent\"><img src=\"https://colab.research.google.com/assets/colab-badge.svg\" alt=\"Open In Colab\"/></a>"
      ]
    },
    {
      "source": [
        "# IMPORTANT: RUN THIS CELL IN ORDER TO IMPORT YOUR KAGGLE DATA SOURCES,\n",
        "# THEN FEEL FREE TO DELETE THIS CELL.\n",
        "# NOTE: THIS NOTEBOOK ENVIRONMENT DIFFERS FROM KAGGLE'S PYTHON\n",
        "# ENVIRONMENT SO THERE MAY BE MISSING LIBRARIES USED BY YOUR\n",
        "# NOTEBOOK.\n",
        "import kagglehub\n",
        "waqi786_climate_change_impact_on_agriculture_path = kagglehub.dataset_download('waqi786/climate-change-impact-on-agriculture')\n",
        "\n",
        "print('Data source import complete.')\n"
      ],
      "metadata": {
        "id": "u10SOIHcvA5L",
        "outputId": "42e1d4e8-247e-48e6-f861-dc92eb612456",
        "colab": {
          "base_uri": "https://localhost:8080/"
        }
      },
      "cell_type": "code",
      "outputs": [
        {
          "output_type": "stream",
          "name": "stdout",
          "text": [
            "Data source import complete.\n"
          ]
        }
      ],
      "execution_count": 2
    },
    {
      "cell_type": "code",
      "source": [
        "import pandas as pd\n",
        "import matplotlib.pyplot as plt\n",
        "import seaborn as sns\n",
        "\n",
        "# Load the dataset\n",
        "file_path = '/kaggle/input/climate-change-impact-on-agriculture/climate_change_impact_on_agriculture_2024.csv'\n",
        "data = pd.read_csv(file_path)\n",
        "\n",
        "# Display the first few rows of the dataset\n",
        "data.head()\n"
      ],
      "metadata": {
        "execution": {
          "iopub.status.busy": "2024-09-06T14:19:59.152906Z",
          "iopub.execute_input": "2024-09-06T14:19:59.154521Z",
          "iopub.status.idle": "2024-09-06T14:19:59.226013Z",
          "shell.execute_reply.started": "2024-09-06T14:19:59.154458Z",
          "shell.execute_reply": "2024-09-06T14:19:59.224322Z"
        },
        "trusted": true,
        "id": "X8FYpiMvvA5N",
        "outputId": "db97062a-f9e3-4c20-c836-3a59caa7b46f",
        "colab": {
          "base_uri": "https://localhost:8080/",
          "height": 278
        }
      },
      "execution_count": 3,
      "outputs": [
        {
          "output_type": "execute_result",
          "data": {
            "text/plain": [
              "   Year Country         Region  Crop_Type  Average_Temperature_C  \\\n",
              "0  2001   India    West Bengal       Corn                   1.55   \n",
              "1  2024   China          North       Corn                   3.23   \n",
              "2  2001  France  Ile-de-France      Wheat                  21.11   \n",
              "3  2001  Canada       Prairies     Coffee                  27.85   \n",
              "4  1998   India     Tamil Nadu  Sugarcane                   2.19   \n",
              "\n",
              "   Total_Precipitation_mm  CO2_Emissions_MT  Crop_Yield_MT_per_HA  \\\n",
              "0                  447.06             15.22                 1.737   \n",
              "1                 2913.57             29.82                 1.737   \n",
              "2                 1301.74             25.75                 1.719   \n",
              "3                 1154.36             13.91                 3.890   \n",
              "4                 1627.48             11.81                 1.080   \n",
              "\n",
              "   Extreme_Weather_Events  Irrigation_Access_%  Pesticide_Use_KG_per_HA  \\\n",
              "0                       8                14.54                    10.08   \n",
              "1                       8                11.05                    33.06   \n",
              "2                       5                84.42                    27.41   \n",
              "3                       5                94.06                    14.38   \n",
              "4                       9                95.75                    44.35   \n",
              "\n",
              "   Fertilizer_Use_KG_per_HA  Soil_Health_Index Adaptation_Strategies  \\\n",
              "0                     14.78              83.25      Water Management   \n",
              "1                     23.25              54.02         Crop Rotation   \n",
              "2                     65.53              67.78      Water Management   \n",
              "3                     87.58              91.39         No Adaptation   \n",
              "4                     88.08              49.61         Crop Rotation   \n",
              "\n",
              "   Economic_Impact_Million_USD  \n",
              "0                       808.13  \n",
              "1                       616.22  \n",
              "2                       796.96  \n",
              "3                       790.32  \n",
              "4                       401.72  "
            ],
            "text/html": [
              "\n",
              "  <div id=\"df-4b8bdceb-146c-436d-9a88-d2ee85e813bd\" class=\"colab-df-container\">\n",
              "    <div>\n",
              "<style scoped>\n",
              "    .dataframe tbody tr th:only-of-type {\n",
              "        vertical-align: middle;\n",
              "    }\n",
              "\n",
              "    .dataframe tbody tr th {\n",
              "        vertical-align: top;\n",
              "    }\n",
              "\n",
              "    .dataframe thead th {\n",
              "        text-align: right;\n",
              "    }\n",
              "</style>\n",
              "<table border=\"1\" class=\"dataframe\">\n",
              "  <thead>\n",
              "    <tr style=\"text-align: right;\">\n",
              "      <th></th>\n",
              "      <th>Year</th>\n",
              "      <th>Country</th>\n",
              "      <th>Region</th>\n",
              "      <th>Crop_Type</th>\n",
              "      <th>Average_Temperature_C</th>\n",
              "      <th>Total_Precipitation_mm</th>\n",
              "      <th>CO2_Emissions_MT</th>\n",
              "      <th>Crop_Yield_MT_per_HA</th>\n",
              "      <th>Extreme_Weather_Events</th>\n",
              "      <th>Irrigation_Access_%</th>\n",
              "      <th>Pesticide_Use_KG_per_HA</th>\n",
              "      <th>Fertilizer_Use_KG_per_HA</th>\n",
              "      <th>Soil_Health_Index</th>\n",
              "      <th>Adaptation_Strategies</th>\n",
              "      <th>Economic_Impact_Million_USD</th>\n",
              "    </tr>\n",
              "  </thead>\n",
              "  <tbody>\n",
              "    <tr>\n",
              "      <th>0</th>\n",
              "      <td>2001</td>\n",
              "      <td>India</td>\n",
              "      <td>West Bengal</td>\n",
              "      <td>Corn</td>\n",
              "      <td>1.55</td>\n",
              "      <td>447.06</td>\n",
              "      <td>15.22</td>\n",
              "      <td>1.737</td>\n",
              "      <td>8</td>\n",
              "      <td>14.54</td>\n",
              "      <td>10.08</td>\n",
              "      <td>14.78</td>\n",
              "      <td>83.25</td>\n",
              "      <td>Water Management</td>\n",
              "      <td>808.13</td>\n",
              "    </tr>\n",
              "    <tr>\n",
              "      <th>1</th>\n",
              "      <td>2024</td>\n",
              "      <td>China</td>\n",
              "      <td>North</td>\n",
              "      <td>Corn</td>\n",
              "      <td>3.23</td>\n",
              "      <td>2913.57</td>\n",
              "      <td>29.82</td>\n",
              "      <td>1.737</td>\n",
              "      <td>8</td>\n",
              "      <td>11.05</td>\n",
              "      <td>33.06</td>\n",
              "      <td>23.25</td>\n",
              "      <td>54.02</td>\n",
              "      <td>Crop Rotation</td>\n",
              "      <td>616.22</td>\n",
              "    </tr>\n",
              "    <tr>\n",
              "      <th>2</th>\n",
              "      <td>2001</td>\n",
              "      <td>France</td>\n",
              "      <td>Ile-de-France</td>\n",
              "      <td>Wheat</td>\n",
              "      <td>21.11</td>\n",
              "      <td>1301.74</td>\n",
              "      <td>25.75</td>\n",
              "      <td>1.719</td>\n",
              "      <td>5</td>\n",
              "      <td>84.42</td>\n",
              "      <td>27.41</td>\n",
              "      <td>65.53</td>\n",
              "      <td>67.78</td>\n",
              "      <td>Water Management</td>\n",
              "      <td>796.96</td>\n",
              "    </tr>\n",
              "    <tr>\n",
              "      <th>3</th>\n",
              "      <td>2001</td>\n",
              "      <td>Canada</td>\n",
              "      <td>Prairies</td>\n",
              "      <td>Coffee</td>\n",
              "      <td>27.85</td>\n",
              "      <td>1154.36</td>\n",
              "      <td>13.91</td>\n",
              "      <td>3.890</td>\n",
              "      <td>5</td>\n",
              "      <td>94.06</td>\n",
              "      <td>14.38</td>\n",
              "      <td>87.58</td>\n",
              "      <td>91.39</td>\n",
              "      <td>No Adaptation</td>\n",
              "      <td>790.32</td>\n",
              "    </tr>\n",
              "    <tr>\n",
              "      <th>4</th>\n",
              "      <td>1998</td>\n",
              "      <td>India</td>\n",
              "      <td>Tamil Nadu</td>\n",
              "      <td>Sugarcane</td>\n",
              "      <td>2.19</td>\n",
              "      <td>1627.48</td>\n",
              "      <td>11.81</td>\n",
              "      <td>1.080</td>\n",
              "      <td>9</td>\n",
              "      <td>95.75</td>\n",
              "      <td>44.35</td>\n",
              "      <td>88.08</td>\n",
              "      <td>49.61</td>\n",
              "      <td>Crop Rotation</td>\n",
              "      <td>401.72</td>\n",
              "    </tr>\n",
              "  </tbody>\n",
              "</table>\n",
              "</div>\n",
              "    <div class=\"colab-df-buttons\">\n",
              "\n",
              "  <div class=\"colab-df-container\">\n",
              "    <button class=\"colab-df-convert\" onclick=\"convertToInteractive('df-4b8bdceb-146c-436d-9a88-d2ee85e813bd')\"\n",
              "            title=\"Convert this dataframe to an interactive table.\"\n",
              "            style=\"display:none;\">\n",
              "\n",
              "  <svg xmlns=\"http://www.w3.org/2000/svg\" height=\"24px\" viewBox=\"0 -960 960 960\">\n",
              "    <path d=\"M120-120v-720h720v720H120Zm60-500h600v-160H180v160Zm220 220h160v-160H400v160Zm0 220h160v-160H400v160ZM180-400h160v-160H180v160Zm440 0h160v-160H620v160ZM180-180h160v-160H180v160Zm440 0h160v-160H620v160Z\"/>\n",
              "  </svg>\n",
              "    </button>\n",
              "\n",
              "  <style>\n",
              "    .colab-df-container {\n",
              "      display:flex;\n",
              "      gap: 12px;\n",
              "    }\n",
              "\n",
              "    .colab-df-convert {\n",
              "      background-color: #E8F0FE;\n",
              "      border: none;\n",
              "      border-radius: 50%;\n",
              "      cursor: pointer;\n",
              "      display: none;\n",
              "      fill: #1967D2;\n",
              "      height: 32px;\n",
              "      padding: 0 0 0 0;\n",
              "      width: 32px;\n",
              "    }\n",
              "\n",
              "    .colab-df-convert:hover {\n",
              "      background-color: #E2EBFA;\n",
              "      box-shadow: 0px 1px 2px rgba(60, 64, 67, 0.3), 0px 1px 3px 1px rgba(60, 64, 67, 0.15);\n",
              "      fill: #174EA6;\n",
              "    }\n",
              "\n",
              "    .colab-df-buttons div {\n",
              "      margin-bottom: 4px;\n",
              "    }\n",
              "\n",
              "    [theme=dark] .colab-df-convert {\n",
              "      background-color: #3B4455;\n",
              "      fill: #D2E3FC;\n",
              "    }\n",
              "\n",
              "    [theme=dark] .colab-df-convert:hover {\n",
              "      background-color: #434B5C;\n",
              "      box-shadow: 0px 1px 3px 1px rgba(0, 0, 0, 0.15);\n",
              "      filter: drop-shadow(0px 1px 2px rgba(0, 0, 0, 0.3));\n",
              "      fill: #FFFFFF;\n",
              "    }\n",
              "  </style>\n",
              "\n",
              "    <script>\n",
              "      const buttonEl =\n",
              "        document.querySelector('#df-4b8bdceb-146c-436d-9a88-d2ee85e813bd button.colab-df-convert');\n",
              "      buttonEl.style.display =\n",
              "        google.colab.kernel.accessAllowed ? 'block' : 'none';\n",
              "\n",
              "      async function convertToInteractive(key) {\n",
              "        const element = document.querySelector('#df-4b8bdceb-146c-436d-9a88-d2ee85e813bd');\n",
              "        const dataTable =\n",
              "          await google.colab.kernel.invokeFunction('convertToInteractive',\n",
              "                                                    [key], {});\n",
              "        if (!dataTable) return;\n",
              "\n",
              "        const docLinkHtml = 'Like what you see? Visit the ' +\n",
              "          '<a target=\"_blank\" href=https://colab.research.google.com/notebooks/data_table.ipynb>data table notebook</a>'\n",
              "          + ' to learn more about interactive tables.';\n",
              "        element.innerHTML = '';\n",
              "        dataTable['output_type'] = 'display_data';\n",
              "        await google.colab.output.renderOutput(dataTable, element);\n",
              "        const docLink = document.createElement('div');\n",
              "        docLink.innerHTML = docLinkHtml;\n",
              "        element.appendChild(docLink);\n",
              "      }\n",
              "    </script>\n",
              "  </div>\n",
              "\n",
              "\n",
              "<div id=\"df-257cd5ed-97c3-4aba-bc75-4ef234d854a1\">\n",
              "  <button class=\"colab-df-quickchart\" onclick=\"quickchart('df-257cd5ed-97c3-4aba-bc75-4ef234d854a1')\"\n",
              "            title=\"Suggest charts\"\n",
              "            style=\"display:none;\">\n",
              "\n",
              "<svg xmlns=\"http://www.w3.org/2000/svg\" height=\"24px\"viewBox=\"0 0 24 24\"\n",
              "     width=\"24px\">\n",
              "    <g>\n",
              "        <path d=\"M19 3H5c-1.1 0-2 .9-2 2v14c0 1.1.9 2 2 2h14c1.1 0 2-.9 2-2V5c0-1.1-.9-2-2-2zM9 17H7v-7h2v7zm4 0h-2V7h2v10zm4 0h-2v-4h2v4z\"/>\n",
              "    </g>\n",
              "</svg>\n",
              "  </button>\n",
              "\n",
              "<style>\n",
              "  .colab-df-quickchart {\n",
              "      --bg-color: #E8F0FE;\n",
              "      --fill-color: #1967D2;\n",
              "      --hover-bg-color: #E2EBFA;\n",
              "      --hover-fill-color: #174EA6;\n",
              "      --disabled-fill-color: #AAA;\n",
              "      --disabled-bg-color: #DDD;\n",
              "  }\n",
              "\n",
              "  [theme=dark] .colab-df-quickchart {\n",
              "      --bg-color: #3B4455;\n",
              "      --fill-color: #D2E3FC;\n",
              "      --hover-bg-color: #434B5C;\n",
              "      --hover-fill-color: #FFFFFF;\n",
              "      --disabled-bg-color: #3B4455;\n",
              "      --disabled-fill-color: #666;\n",
              "  }\n",
              "\n",
              "  .colab-df-quickchart {\n",
              "    background-color: var(--bg-color);\n",
              "    border: none;\n",
              "    border-radius: 50%;\n",
              "    cursor: pointer;\n",
              "    display: none;\n",
              "    fill: var(--fill-color);\n",
              "    height: 32px;\n",
              "    padding: 0;\n",
              "    width: 32px;\n",
              "  }\n",
              "\n",
              "  .colab-df-quickchart:hover {\n",
              "    background-color: var(--hover-bg-color);\n",
              "    box-shadow: 0 1px 2px rgba(60, 64, 67, 0.3), 0 1px 3px 1px rgba(60, 64, 67, 0.15);\n",
              "    fill: var(--button-hover-fill-color);\n",
              "  }\n",
              "\n",
              "  .colab-df-quickchart-complete:disabled,\n",
              "  .colab-df-quickchart-complete:disabled:hover {\n",
              "    background-color: var(--disabled-bg-color);\n",
              "    fill: var(--disabled-fill-color);\n",
              "    box-shadow: none;\n",
              "  }\n",
              "\n",
              "  .colab-df-spinner {\n",
              "    border: 2px solid var(--fill-color);\n",
              "    border-color: transparent;\n",
              "    border-bottom-color: var(--fill-color);\n",
              "    animation:\n",
              "      spin 1s steps(1) infinite;\n",
              "  }\n",
              "\n",
              "  @keyframes spin {\n",
              "    0% {\n",
              "      border-color: transparent;\n",
              "      border-bottom-color: var(--fill-color);\n",
              "      border-left-color: var(--fill-color);\n",
              "    }\n",
              "    20% {\n",
              "      border-color: transparent;\n",
              "      border-left-color: var(--fill-color);\n",
              "      border-top-color: var(--fill-color);\n",
              "    }\n",
              "    30% {\n",
              "      border-color: transparent;\n",
              "      border-left-color: var(--fill-color);\n",
              "      border-top-color: var(--fill-color);\n",
              "      border-right-color: var(--fill-color);\n",
              "    }\n",
              "    40% {\n",
              "      border-color: transparent;\n",
              "      border-right-color: var(--fill-color);\n",
              "      border-top-color: var(--fill-color);\n",
              "    }\n",
              "    60% {\n",
              "      border-color: transparent;\n",
              "      border-right-color: var(--fill-color);\n",
              "    }\n",
              "    80% {\n",
              "      border-color: transparent;\n",
              "      border-right-color: var(--fill-color);\n",
              "      border-bottom-color: var(--fill-color);\n",
              "    }\n",
              "    90% {\n",
              "      border-color: transparent;\n",
              "      border-bottom-color: var(--fill-color);\n",
              "    }\n",
              "  }\n",
              "</style>\n",
              "\n",
              "  <script>\n",
              "    async function quickchart(key) {\n",
              "      const quickchartButtonEl =\n",
              "        document.querySelector('#' + key + ' button');\n",
              "      quickchartButtonEl.disabled = true;  // To prevent multiple clicks.\n",
              "      quickchartButtonEl.classList.add('colab-df-spinner');\n",
              "      try {\n",
              "        const charts = await google.colab.kernel.invokeFunction(\n",
              "            'suggestCharts', [key], {});\n",
              "      } catch (error) {\n",
              "        console.error('Error during call to suggestCharts:', error);\n",
              "      }\n",
              "      quickchartButtonEl.classList.remove('colab-df-spinner');\n",
              "      quickchartButtonEl.classList.add('colab-df-quickchart-complete');\n",
              "    }\n",
              "    (() => {\n",
              "      let quickchartButtonEl =\n",
              "        document.querySelector('#df-257cd5ed-97c3-4aba-bc75-4ef234d854a1 button');\n",
              "      quickchartButtonEl.style.display =\n",
              "        google.colab.kernel.accessAllowed ? 'block' : 'none';\n",
              "    })();\n",
              "  </script>\n",
              "</div>\n",
              "\n",
              "    </div>\n",
              "  </div>\n"
            ],
            "application/vnd.google.colaboratory.intrinsic+json": {
              "type": "dataframe",
              "variable_name": "data",
              "summary": "{\n  \"name\": \"data\",\n  \"rows\": 10000,\n  \"fields\": [\n    {\n      \"column\": \"Year\",\n      \"properties\": {\n        \"dtype\": \"number\",\n        \"std\": 10,\n        \"min\": 1990,\n        \"max\": 2024,\n        \"num_unique_values\": 35,\n        \"samples\": [\n          1994,\n          2017,\n          2005\n        ],\n        \"semantic_type\": \"\",\n        \"description\": \"\"\n      }\n    },\n    {\n      \"column\": \"Country\",\n      \"properties\": {\n        \"dtype\": \"category\",\n        \"num_unique_values\": 10,\n        \"samples\": [\n          \"Russia\",\n          \"China\",\n          \"Argentina\"\n        ],\n        \"semantic_type\": \"\",\n        \"description\": \"\"\n      }\n    },\n    {\n      \"column\": \"Region\",\n      \"properties\": {\n        \"dtype\": \"category\",\n        \"num_unique_values\": 34,\n        \"samples\": [\n          \"Victoria\",\n          \"Southeast\",\n          \"West\"\n        ],\n        \"semantic_type\": \"\",\n        \"description\": \"\"\n      }\n    },\n    {\n      \"column\": \"Crop_Type\",\n      \"properties\": {\n        \"dtype\": \"category\",\n        \"num_unique_values\": 10,\n        \"samples\": [\n          \"Soybeans\",\n          \"Wheat\",\n          \"Rice\"\n        ],\n        \"semantic_type\": \"\",\n        \"description\": \"\"\n      }\n    },\n    {\n      \"column\": \"Average_Temperature_C\",\n      \"properties\": {\n        \"dtype\": \"number\",\n        \"std\": 11.466954595155933,\n        \"min\": -4.99,\n        \"max\": 35.0,\n        \"num_unique_values\": 3677,\n        \"samples\": [\n          15.49,\n          22.98,\n          3.59\n        ],\n        \"semantic_type\": \"\",\n        \"description\": \"\"\n      }\n    },\n    {\n      \"column\": \"Total_Precipitation_mm\",\n      \"properties\": {\n        \"dtype\": \"number\",\n        \"std\": 805.0168148137855,\n        \"min\": 200.15,\n        \"max\": 2999.67,\n        \"num_unique_values\": 9784,\n        \"samples\": [\n          955.41,\n          2647.11,\n          369.83\n        ],\n        \"semantic_type\": \"\",\n        \"description\": \"\"\n      }\n    },\n    {\n      \"column\": \"CO2_Emissions_MT\",\n      \"properties\": {\n        \"dtype\": \"number\",\n        \"std\": 8.589422921998253,\n        \"min\": 0.5,\n        \"max\": 30.0,\n        \"num_unique_values\": 2852,\n        \"samples\": [\n          25.23,\n          22.92,\n          17.85\n        ],\n        \"semantic_type\": \"\",\n        \"description\": \"\"\n      }\n    },\n    {\n      \"column\": \"Crop_Yield_MT_per_HA\",\n      \"properties\": {\n        \"dtype\": \"number\",\n        \"std\": 0.9983415170135203,\n        \"min\": 0.45,\n        \"max\": 5.0,\n        \"num_unique_values\": 850,\n        \"samples\": [\n          3.51,\n          1.287,\n          4.0\n        ],\n        \"semantic_type\": \"\",\n        \"description\": \"\"\n      }\n    },\n    {\n      \"column\": \"Extreme_Weather_Events\",\n      \"properties\": {\n        \"dtype\": \"number\",\n        \"std\": 3,\n        \"min\": 0,\n        \"max\": 10,\n        \"num_unique_values\": 11,\n        \"samples\": [\n          1,\n          8,\n          0\n        ],\n        \"semantic_type\": \"\",\n        \"description\": \"\"\n      }\n    },\n    {\n      \"column\": \"Irrigation_Access_%\",\n      \"properties\": {\n        \"dtype\": \"number\",\n        \"std\": 25.988304726088543,\n        \"min\": 10.01,\n        \"max\": 99.99,\n        \"num_unique_values\": 6003,\n        \"samples\": [\n          96.91,\n          77.57,\n          24.7\n        ],\n        \"semantic_type\": \"\",\n        \"description\": \"\"\n      }\n    },\n    {\n      \"column\": \"Pesticide_Use_KG_per_HA\",\n      \"properties\": {\n        \"dtype\": \"number\",\n        \"std\": 14.490962263373268,\n        \"min\": 0.0,\n        \"max\": 49.99,\n        \"num_unique_values\": 4343,\n        \"samples\": [\n          37.87,\n          17.49,\n          47.39\n        ],\n        \"semantic_type\": \"\",\n        \"description\": \"\"\n      }\n    },\n    {\n      \"column\": \"Fertilizer_Use_KG_per_HA\",\n      \"properties\": {\n        \"dtype\": \"number\",\n        \"std\": 28.711026934916507,\n        \"min\": 0.01,\n        \"max\": 99.99,\n        \"num_unique_values\": 6314,\n        \"samples\": [\n          0.1,\n          83.88,\n          72.62\n        ],\n        \"semantic_type\": \"\",\n        \"description\": \"\"\n      }\n    },\n    {\n      \"column\": \"Soil_Health_Index\",\n      \"properties\": {\n        \"dtype\": \"number\",\n        \"std\": 20.195882333610484,\n        \"min\": 30.0,\n        \"max\": 100.0,\n        \"num_unique_values\": 5318,\n        \"samples\": [\n          98.62,\n          52.85,\n          38.14\n        ],\n        \"semantic_type\": \"\",\n        \"description\": \"\"\n      }\n    },\n    {\n      \"column\": \"Adaptation_Strategies\",\n      \"properties\": {\n        \"dtype\": \"category\",\n        \"num_unique_values\": 5,\n        \"samples\": [\n          \"Crop Rotation\",\n          \"Drought-resistant Crops\",\n          \"No Adaptation\"\n        ],\n        \"semantic_type\": \"\",\n        \"description\": \"\"\n      }\n    },\n    {\n      \"column\": \"Economic_Impact_Million_USD\",\n      \"properties\": {\n        \"dtype\": \"number\",\n        \"std\": 414.59143139199205,\n        \"min\": 47.84,\n        \"max\": 2346.47,\n        \"num_unique_values\": 9631,\n        \"samples\": [\n          407.76,\n          1439.17,\n          1518.62\n        ],\n        \"semantic_type\": \"\",\n        \"description\": \"\"\n      }\n    }\n  ]\n}"
            }
          },
          "metadata": {},
          "execution_count": 3
        }
      ]
    },
    {
      "cell_type": "code",
      "source": [
        "# Display column names\n",
        "data.columns\n"
      ],
      "metadata": {
        "execution": {
          "iopub.status.busy": "2024-09-06T14:20:09.45126Z",
          "iopub.execute_input": "2024-09-06T14:20:09.451796Z",
          "iopub.status.idle": "2024-09-06T14:20:09.461473Z",
          "shell.execute_reply.started": "2024-09-06T14:20:09.451751Z",
          "shell.execute_reply": "2024-09-06T14:20:09.459795Z"
        },
        "trusted": true,
        "id": "t4prjoBUvA5N",
        "outputId": "f7d5fd8c-7ea0-4aff-ec31-d60db7d05974",
        "colab": {
          "base_uri": "https://localhost:8080/"
        }
      },
      "execution_count": 4,
      "outputs": [
        {
          "output_type": "execute_result",
          "data": {
            "text/plain": [
              "Index(['Year', 'Country', 'Region', 'Crop_Type', 'Average_Temperature_C',\n",
              "       'Total_Precipitation_mm', 'CO2_Emissions_MT', 'Crop_Yield_MT_per_HA',\n",
              "       'Extreme_Weather_Events', 'Irrigation_Access_%',\n",
              "       'Pesticide_Use_KG_per_HA', 'Fertilizer_Use_KG_per_HA',\n",
              "       'Soil_Health_Index', 'Adaptation_Strategies',\n",
              "       'Economic_Impact_Million_USD'],\n",
              "      dtype='object')"
            ]
          },
          "metadata": {},
          "execution_count": 4
        }
      ]
    },
    {
      "cell_type": "code",
      "source": [
        "plt.figure(figsize=(12, 6))\n",
        "sns.barplot(x='Region', y='Average_Temperature_C', data=data, estimator='mean')\n",
        "plt.title('Average Temperature by Region')\n",
        "plt.xlabel('Region')\n",
        "plt.ylabel('Average Temperature (°C)')\n",
        "plt.xticks(rotation=45)\n",
        "plt.show()\n"
      ],
      "metadata": {
        "execution": {
          "iopub.status.busy": "2024-09-06T14:20:36.252115Z",
          "iopub.execute_input": "2024-09-06T14:20:36.252674Z",
          "iopub.status.idle": "2024-09-06T14:20:37.98223Z",
          "shell.execute_reply.started": "2024-09-06T14:20:36.252626Z",
          "shell.execute_reply": "2024-09-06T14:20:37.981025Z"
        },
        "trusted": true,
        "id": "mgi-V4s8vA5O",
        "outputId": "cb0d6a8b-e09e-410d-e61c-07c660df769e",
        "colab": {
          "base_uri": "https://localhost:8080/",
          "height": 696
        }
      },
      "execution_count": 5,
      "outputs": [
        {
          "output_type": "display_data",
          "data": {
            "text/plain": [
              "<Figure size 1200x600 with 1 Axes>"
            ],
            "image/png": "[encoded data removed]"
          },
          "metadata": {}
        }
      ]
    },
    {
      "cell_type": "code",
      "source": [
        "plt.figure(figsize=(12, 6))\n",
        "sns.lineplot(x='Year', y='Crop_Yield_MT_per_HA', data=data)\n",
        "plt.title('Crop Yield Over Years')\n",
        "plt.xlabel('Year')\n",
        "plt.ylabel('Crop Yield (MT per HA)')\n",
        "plt.show()\n"
      ],
      "metadata": {
        "execution": {
          "iopub.status.busy": "2024-09-06T14:21:35.725775Z",
          "iopub.execute_input": "2024-09-06T14:21:35.726255Z",
          "iopub.status.idle": "2024-09-06T14:21:37.201295Z",
          "shell.execute_reply.started": "2024-09-06T14:21:35.726211Z",
          "shell.execute_reply": "2024-09-06T14:21:37.199785Z"
        },
        "trusted": true,
        "id": "t6s3vGjBvA5P"
      },
      "execution_count": null,
      "outputs": []
    },
    {
      "cell_type": "code",
      "source": [
        "plt.figure(figsize=(8, 8))\n",
        "data['Crop_Type'].value_counts().plot.pie(autopct='%1.1f%%', startangle=140)\n",
        "plt.title('Percentage of Countries by Crop Type')\n",
        "plt.show()\n"
      ],
      "metadata": {
        "execution": {
          "iopub.status.busy": "2024-09-06T14:22:11.48436Z",
          "iopub.execute_input": "2024-09-06T14:22:11.485434Z",
          "iopub.status.idle": "2024-09-06T14:22:11.718709Z",
          "shell.execute_reply.started": "2024-09-06T14:22:11.485386Z",
          "shell.execute_reply": "2024-09-06T14:22:11.717327Z"
        },
        "trusted": true,
        "id": "Wy15gdhsvA5P"
      },
      "execution_count": null,
      "outputs": []
    },
    {
      "cell_type": "code",
      "source": [
        "plt.figure(figsize=(12, 6))\n",
        "sns.histplot(data['CO2_Emissions_MT'], bins=30, kde=True)\n",
        "plt.title('Distribution of CO2 Emissions')\n",
        "plt.xlabel('CO2 Emissions (MT)')\n",
        "plt.ylabel('Frequency')\n",
        "plt.show()\n"
      ],
      "metadata": {
        "execution": {
          "iopub.status.busy": "2024-09-06T14:26:06.451376Z",
          "iopub.execute_input": "2024-09-06T14:26:06.451855Z",
          "iopub.status.idle": "2024-09-06T14:26:06.946191Z",
          "shell.execute_reply.started": "2024-09-06T14:26:06.451814Z",
          "shell.execute_reply": "2024-09-06T14:26:06.9448Z"
        },
        "trusted": true,
        "id": "iks1jDE3vA5Q"
      },
      "execution_count": null,
      "outputs": []
    },
    {
      "cell_type": "code",
      "source": [
        "plt.figure(figsize=(12, 6))\n",
        "sns.boxplot(x='Country', y='Crop_Yield_MT_per_HA', data=data)\n",
        "plt.title('Crop Yield by Country')\n",
        "plt.xlabel('Country')\n",
        "plt.ylabel('Crop Yield (MT per HA)')\n",
        "plt.xticks(rotation=90)\n",
        "plt.show()\n"
      ],
      "metadata": {
        "execution": {
          "iopub.status.busy": "2024-09-06T14:26:42.585185Z",
          "iopub.execute_input": "2024-09-06T14:26:42.585666Z",
          "iopub.status.idle": "2024-09-06T14:26:42.958701Z",
          "shell.execute_reply.started": "2024-09-06T14:26:42.585623Z",
          "shell.execute_reply": "2024-09-06T14:26:42.957528Z"
        },
        "trusted": true,
        "id": "GxO8iJNLvA5Q"
      },
      "execution_count": null,
      "outputs": []
    },
    {
      "cell_type": "code",
      "source": [
        "plt.figure(figsize=(12, 10))\n",
        "correlation_matrix = data[['Average_Temperature_C', 'Total_Precipitation_mm', 'CO2_Emissions_MT', 'Crop_Yield_MT_per_HA',\n",
        "                           'Extreme_Weather_Events', 'Irrigation_Access_%', 'Pesticide_Use_KG_per_HA', 'Fertilizer_Use_KG_per_HA',\n",
        "                           'Soil_Health_Index', 'Economic_Impact_Million_USD']].corr()\n",
        "sns.heatmap(correlation_matrix, annot=True, cmap='coolwarm', fmt='.2f')\n",
        "plt.title('Correlation Matrix of Numeric Variables')\n",
        "plt.show()\n"
      ],
      "metadata": {
        "execution": {
          "iopub.status.busy": "2024-09-06T14:27:10.853977Z",
          "iopub.execute_input": "2024-09-06T14:27:10.854478Z",
          "iopub.status.idle": "2024-09-06T14:27:11.596744Z",
          "shell.execute_reply.started": "2024-09-06T14:27:10.854436Z",
          "shell.execute_reply": "2024-09-06T14:27:11.594917Z"
        },
        "trusted": true,
        "id": "sykt_f-EvA5R"
      },
      "execution_count": null,
      "outputs": []
    },
    {
      "cell_type": "code",
      "source": [
        "plt.figure(figsize=(12, 6))\n",
        "sns.scatterplot(x='CO2_Emissions_MT', y='Crop_Yield_MT_per_HA', data=data)\n",
        "plt.title('CO2 Emissions vs. Crop Yield')\n",
        "plt.xlabel('CO2 Emissions (MT)')\n",
        "plt.ylabel('Crop Yield (MT per HA)')\n",
        "plt.show()\n"
      ],
      "metadata": {
        "execution": {
          "iopub.status.busy": "2024-09-06T14:27:41.68712Z",
          "iopub.execute_input": "2024-09-06T14:27:41.687663Z",
          "iopub.status.idle": "2024-09-06T14:27:42.049459Z",
          "shell.execute_reply.started": "2024-09-06T14:27:41.687618Z",
          "shell.execute_reply": "2024-09-06T14:27:42.048028Z"
        },
        "trusted": true,
        "id": "y5H7Ppz_vA5R"
      },
      "execution_count": null,
      "outputs": []
    },
    {
      "cell_type": "code",
      "source": [
        "sns.pairplot(data[['Average_Temperature_C', 'Total_Precipitation_mm', 'CO2_Emissions_MT', 'Crop_Yield_MT_per_HA',\n",
        "                   'Extreme_Weather_Events', 'Irrigation_Access_%', 'Pesticide_Use_KG_per_HA',\n",
        "                   'Fertilizer_Use_KG_per_HA', 'Soil_Health_Index']])\n",
        "plt.title('Pairwise Relationships in Data')\n",
        "plt.show()\n"
      ],
      "metadata": {
        "execution": {
          "iopub.status.busy": "2024-09-06T14:27:57.230924Z",
          "iopub.execute_input": "2024-09-06T14:27:57.231412Z",
          "iopub.status.idle": "2024-09-06T14:28:26.967331Z",
          "shell.execute_reply.started": "2024-09-06T14:27:57.231371Z",
          "shell.execute_reply": "2024-09-06T14:28:26.964928Z"
        },
        "trusted": true,
        "id": "BDepgRzvvA5S"
      },
      "execution_count": null,
      "outputs": []
    },
    {
      "cell_type": "code",
      "source": [
        "sns.pairplot(data[['Average_Temperature_C', 'Total_Precipitation_mm', 'CO2_Emissions_MT', 'Crop_Yield_MT_per_HA',\n",
        "                   'Extreme_Weather_Events', 'Irrigation_Access_%', 'Pesticide_Use_KG_per_HA',\n",
        "                   'Fertilizer_Use_KG_per_HA', 'Soil_Health_Index']])\n",
        "plt.title('Pairwise Relationships in Data')\n",
        "plt.show()\n"
      ],
      "metadata": {
        "execution": {
          "iopub.status.busy": "2024-09-06T14:29:38.839722Z",
          "iopub.execute_input": "2024-09-06T14:29:38.840206Z",
          "iopub.status.idle": "2024-09-06T14:30:08.44738Z",
          "shell.execute_reply.started": "2024-09-06T14:29:38.840164Z",
          "shell.execute_reply": "2024-09-06T14:30:08.443957Z"
        },
        "trusted": true,
        "id": "kwO70JuYvA5S"
      },
      "execution_count": null,
      "outputs": []
    },
    {
      "cell_type": "code",
      "source": [
        "plt.figure(figsize=(12, 6))\n",
        "sns.boxplot(x='Region', y='Economic_Impact_Million_USD', data=data)\n",
        "plt.title('Economic Impact by Region')\n",
        "plt.xlabel('Region')\n",
        "plt.ylabel('Economic Impact (Million USD)')\n",
        "plt.xticks(rotation=45)\n",
        "plt.show()\n"
      ],
      "metadata": {
        "execution": {
          "iopub.status.busy": "2024-09-06T14:30:08.449713Z",
          "iopub.execute_input": "2024-09-06T14:30:08.4502Z",
          "iopub.status.idle": "2024-09-06T14:30:09.328367Z",
          "shell.execute_reply.started": "2024-09-06T14:30:08.450154Z",
          "shell.execute_reply": "2024-09-06T14:30:09.326722Z"
        },
        "trusted": true,
        "id": "TaW36XmGvA5T"
      },
      "execution_count": null,
      "outputs": []
    },
    {
      "cell_type": "code",
      "source": [
        "plt.figure(figsize=(12, 6))\n",
        "sns.violinplot(x='Crop_Type', y='Irrigation_Access_%', data=data)\n",
        "plt.title('Irrigation Access by Crop Type')\n",
        "plt.xlabel('Crop Type')\n",
        "plt.ylabel('Irrigation Access (%)')\n",
        "plt.xticks(rotation=45)\n",
        "plt.show()\n"
      ],
      "metadata": {
        "execution": {
          "iopub.status.busy": "2024-09-06T14:30:14.613145Z",
          "iopub.execute_input": "2024-09-06T14:30:14.613657Z",
          "iopub.status.idle": "2024-09-06T14:30:15.148299Z",
          "shell.execute_reply.started": "2024-09-06T14:30:14.613613Z",
          "shell.execute_reply": "2024-09-06T14:30:15.14683Z"
        },
        "trusted": true,
        "id": "OlvQU2oZvA5T"
      },
      "execution_count": null,
      "outputs": []
    },
    {
      "cell_type": "code",
      "source": [
        "plt.figure(figsize=(12, 6))\n",
        "sns.countplot(x='Region', hue='Extreme_Weather_Events', data=data)\n",
        "plt.title('Extreme Weather Events by Region')\n",
        "plt.xlabel('Region')\n",
        "plt.ylabel('Count')\n",
        "plt.xticks(rotation=45)\n",
        "plt.show()\n"
      ],
      "metadata": {
        "execution": {
          "iopub.status.busy": "2024-09-06T14:30:34.896629Z",
          "iopub.execute_input": "2024-09-06T14:30:34.897107Z",
          "iopub.status.idle": "2024-09-06T14:30:37.047791Z",
          "shell.execute_reply.started": "2024-09-06T14:30:34.89706Z",
          "shell.execute_reply": "2024-09-06T14:30:37.046297Z"
        },
        "trusted": true,
        "id": "fBkJ_UsdvA5T"
      },
      "execution_count": null,
      "outputs": []
    },
    {
      "cell_type": "code",
      "source": [
        "plt.figure(figsize=(12, 6))\n",
        "sns.lineplot(x='Year', y='Pesticide_Use_KG_per_HA', data=data)\n",
        "plt.title('Pesticide Use Over Years')\n",
        "plt.xlabel('Year')\n",
        "plt.ylabel('Pesticide Use (KG per HA)')\n",
        "plt.show()\n"
      ],
      "metadata": {
        "execution": {
          "iopub.status.busy": "2024-09-06T14:31:04.335403Z",
          "iopub.execute_input": "2024-09-06T14:31:04.335889Z",
          "iopub.status.idle": "2024-09-06T14:31:05.819119Z",
          "shell.execute_reply.started": "2024-09-06T14:31:04.335847Z",
          "shell.execute_reply": "2024-09-06T14:31:05.817602Z"
        },
        "trusted": true,
        "id": "GuazguHmvA5T"
      },
      "execution_count": null,
      "outputs": []
    },
    {
      "cell_type": "code",
      "source": [
        "plt.figure(figsize=(12, 6))\n",
        "sns.histplot(data['Soil_Health_Index'], bins=30, kde=True)\n",
        "plt.title('Distribution of Soil Health Index')\n",
        "plt.xlabel('Soil Health Index')\n",
        "plt.ylabel('Frequency')\n",
        "plt.show()\n"
      ],
      "metadata": {
        "execution": {
          "iopub.status.busy": "2024-09-06T14:34:25.256391Z",
          "iopub.execute_input": "2024-09-06T14:34:25.256964Z",
          "iopub.status.idle": "2024-09-06T14:34:25.794457Z",
          "shell.execute_reply.started": "2024-09-06T14:34:25.256917Z",
          "shell.execute_reply": "2024-09-06T14:34:25.792338Z"
        },
        "trusted": true,
        "id": "Py-wU9HSvA5T"
      },
      "execution_count": null,
      "outputs": []
    },
    {
      "cell_type": "code",
      "source": [
        "plt.figure(figsize=(10, 8))\n",
        "temp_yield_corr = data[['Average_Temperature_C', 'Crop_Yield_MT_per_HA']].corr()\n",
        "sns.heatmap(temp_yield_corr, annot=True, cmap='coolwarm', fmt='.2f')\n",
        "plt.title('Correlation between Temperature and Crop Yield')\n",
        "plt.show()\n"
      ],
      "metadata": {
        "execution": {
          "iopub.status.busy": "2024-09-06T14:35:51.746639Z",
          "iopub.execute_input": "2024-09-06T14:35:51.747176Z",
          "iopub.status.idle": "2024-09-06T14:35:52.146392Z",
          "shell.execute_reply.started": "2024-09-06T14:35:51.747132Z",
          "shell.execute_reply": "2024-09-06T14:35:52.144607Z"
        },
        "trusted": true,
        "id": "H9qL1pmIvA5U"
      },
      "execution_count": null,
      "outputs": []
    },
    {
      "cell_type": "code",
      "source": [
        "sns.pairplot(data[['Crop_Yield_MT_per_HA', 'Average_Temperature_C', 'Total_Precipitation_mm', 'CO2_Emissions_MT']])\n",
        "plt.title('Pairwise Relationships of Crop Yield and Environmental Factors')\n",
        "plt.show()\n"
      ],
      "metadata": {
        "execution": {
          "iopub.status.busy": "2024-09-06T14:37:36.759438Z",
          "iopub.execute_input": "2024-09-06T14:37:36.759943Z",
          "iopub.status.idle": "2024-09-06T14:37:42.541591Z",
          "shell.execute_reply.started": "2024-09-06T14:37:36.759901Z",
          "shell.execute_reply": "2024-09-06T14:37:42.540063Z"
        },
        "trusted": true,
        "id": "4wS6ReYXvA5U"
      },
      "execution_count": null,
      "outputs": []
    },
    {
      "cell_type": "code",
      "source": [
        "plt.figure(figsize=(12, 6))\n",
        "sns.scatterplot(x='Fertilizer_Use_KG_per_HA', y='Crop_Yield_MT_per_HA', data=data)\n",
        "plt.title('Fertilizer Use vs. Crop Yield')\n",
        "plt.xlabel('Fertilizer Use (KG per HA)')\n",
        "plt.ylabel('Crop Yield (MT per HA)')\n",
        "plt.show()\n"
      ],
      "metadata": {
        "execution": {
          "iopub.status.busy": "2024-09-06T14:38:09.473475Z",
          "iopub.execute_input": "2024-09-06T14:38:09.474049Z",
          "iopub.status.idle": "2024-09-06T14:38:09.909904Z",
          "shell.execute_reply.started": "2024-09-06T14:38:09.474002Z",
          "shell.execute_reply": "2024-09-06T14:38:09.908624Z"
        },
        "trusted": true,
        "id": "PqVCwBp4vA5U"
      },
      "execution_count": null,
      "outputs": []
    },
    {
      "cell_type": "markdown",
      "source": [
        "### Analysis Results and Next Steps\n",
        "\n",
        "#### Results:\n",
        "\n",
        "1. **Regional Temperature Variations**:\n",
        "   - **Finding**: Significant variation in average temperatures across different regions.\n",
        "   - **Impact**: Regions with higher temperatures may experience changes in crop yield and agricultural practices.\n",
        "\n",
        "2. **Trend in Crop Yield**:\n",
        "   - **Finding**: Crop yields have shown notable trends over the years.\n",
        "   - **Impact**: Understanding these trends helps in forecasting future crop performance and adjusting agricultural strategies.\n",
        "\n",
        "3. **Distribution of Crop Types**:\n",
        "   - **Finding**: Certain crop types dominate the dataset.\n",
        "   - **Impact**: This information can guide decisions on crop diversity and resource allocation.\n",
        "\n",
        "4. **CO2 Emissions Distribution**:\n",
        "   - **Finding**: Wide variability in CO2 emissions across the dataset.\n",
        "   - **Impact**: Identifies regions or practices with higher greenhouse gas contributions, which could be targeted for emissions reduction.\n",
        "\n",
        "5. **Correlation Analysis**:\n",
        "   - **Finding**: Significant correlations between environmental factors (e.g., temperature, CO2 emissions) and crop yield.\n",
        "   - **Impact**: Highlights key factors that influence agricultural productivity, aiding in targeted interventions.\n",
        "\n",
        "6. **Economic Impact**:\n",
        "   - **Finding**: Varying economic impacts across regions.\n",
        "   - **Impact**: Reflects differing levels of financial resources and agricultural efficiency, useful for economic planning.\n",
        "\n",
        "7. **Irrigation and Pesticide Use**:\n",
        "   - **Finding**: Variation in irrigation access and pesticide use by crop type.\n",
        "   - **Impact**: Suggests areas for potential improvement in agricultural practices and resource management.\n",
        "\n",
        "8. **Pairwise Relationships**:\n",
        "   - **Finding**: Complex relationships between crop yield and environmental factors.\n",
        "   - **Impact**: Provides a comprehensive view of how multiple variables interact to affect agricultural outcomes.\n",
        "\n",
        "#### Next Steps:\n",
        "\n",
        "1. **Develop Interactive Dashboards**:\n",
        "   - Create interactive dashboards using tools like Tableau or Power BI to visualize trends, correlations, and distributions dynamically.\n",
        "   - Incorporate filters to explore data by region, year, crop type, and other variables.\n",
        "\n",
        "2. **Conduct In-Depth Analysis**:\n",
        "   - Perform detailed statistical analyses to quantify the impact of temperature, CO2 emissions, and other factors on crop yield.\n",
        "   - Use regression models or machine learning techniques to predict future trends.\n",
        "\n",
        "3. **Implement Data-Driven Strategies**:\n",
        "   - Develop strategies to mitigate the impact of extreme temperatures and CO2 emissions on agriculture.\n",
        "   - Focus on improving irrigation systems and optimizing pesticide and fertilizer use based on findings.\n",
        "\n",
        "4. **Monitor and Update**:\n",
        "   - Continuously monitor data to track changes and assess the effectiveness of implemented strategies.\n",
        "   - Update the analysis and dashboards with new data to keep insights relevant and actionable.\n",
        "\n",
        "5. **Share Findings**:\n",
        "   - Prepare reports and presentations to communicate insights and recommendations to stakeholders, policymakers, and agricultural practitioners.\n",
        "   - Use visualizations to make complex data accessible and understandable.\n",
        "\n",
        "By following these next steps, you can effectively leverage the insights from the analysis to make informed decisions and drive improvements in agricultural practices and policy.\n"
      ],
      "metadata": {
        "id": "hSFVsCX8vA5V"
      }
    }
  ]
}